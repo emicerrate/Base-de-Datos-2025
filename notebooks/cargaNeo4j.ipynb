{
 "cells": [
  {
   "cell_type": "markdown",
   "id": "8b251341-49e7-4b1b-adc3-53bd4c5b9f2b",
   "metadata": {},
   "source": [
    "Cargamos Neo4j"
   ]
  },
  {
   "cell_type": "code",
   "execution_count": 1,
   "id": "dadc4457-9185-4879-b344-6a9a73eea434",
   "metadata": {},
   "outputs": [],
   "source": [
    "from neo4j import GraphDatabase\n",
    "driver = GraphDatabase.driver(\"bolt://neo4j:7687\",\n",
    "auth=(\"neo4j\", \"neo4j123\"))"
   ]
  },
  {
   "cell_type": "markdown",
   "id": "9d824181-9d8c-427b-ae16-9849caef3e5e",
   "metadata": {},
   "source": [
    "Cargamos los usuarios, destinos y relaciones"
   ]
  },
  {
   "cell_type": "code",
   "execution_count": 3,
   "id": "6f7de75a-a011-4745-8121-5811c480c60e",
   "metadata": {},
   "outputs": [
    {
     "data": {
      "text/plain": [
       "<neo4j._sync.work.result.Result at 0x77a875c55490>"
      ]
     },
     "execution_count": 3,
     "metadata": {},
     "output_type": "execute_result"
    }
   ],
   "source": [
    "query= \"\"\"MERGE (m:Usuario {usuario_id:1, nombre:'María Pérez'})\n",
    "MERGE (j:Usuario {usuario_id:2, nombre:'Juan López'})\n",
    "MERGE (c:Usuario {usuario_id:3, nombre:'Carla Gómez'})\n",
    "MERGE (l:Usuario {usuario_id:4, nombre:'Luis Fernández'})\n",
    "MERGE (a:Usuario {usuario_id:5, nombre:'Ana Torres'})\n",
    "MERGE (d1:Destino {destino_id:1, ciudad:'Bariloche', pais:'Argentina'})\n",
    "MERGE (d2:Destino {destino_id:2, ciudad:'Cancún', pais:'México'})\n",
    "MERGE (d3:Destino {destino_id:3, ciudad:'Madrid', pais:'España'})\n",
    "MERGE (d4:Destino {destino_id:4, ciudad:'Roma', pais:'Italia'})\n",
    "MERGE (d5:Destino {destino_id:5, ciudad:'Mendoza', pais:'Argentina'})\n",
    "MERGE (m)-[:VISITO]->(d1)\n",
    "MERGE (m)-[:VISITO]->(d5)\n",
    "MERGE (j)-[:VISITO]->(d1)\n",
    "MERGE (c)-[:VISITO]->(d3)\n",
    "MERGE (l)-[:VISITO]->(d2)\n",
    "MERGE (a)-[:VISITO]->(d1)\n",
    "MERGE (a)-[:VISITO]->(d4)\n",
    "MERGE (m)-[:AMIGO_DE]->(j)\n",
    "MERGE (j)-[:AMIGO_DE]->(m)\n",
    "MERGE (c)-[:FAMILIAR_DE]->(l)\n",
    "\n",
    "MERGE (a)-[:AMIGO_DE]->(l)\n",
    "\"\"\"\n",
    "driver.session().run(query)"
   ]
  },
  {
   "cell_type": "code",
   "execution_count": null,
   "id": "bee0ab48-5110-4dd4-8e86-fa5723c1ac14",
   "metadata": {},
   "outputs": [],
   "source": []
  }
 ],
 "metadata": {
  "kernelspec": {
   "display_name": "Python 3 (ipykernel)",
   "language": "python",
   "name": "python3"
  },
  "language_info": {
   "codemirror_mode": {
    "name": "ipython",
    "version": 3
   },
   "file_extension": ".py",
   "mimetype": "text/x-python",
   "name": "python",
   "nbconvert_exporter": "python",
   "pygments_lexer": "ipython3",
   "version": "3.11.14"
  }
 },
 "nbformat": 4,
 "nbformat_minor": 5
}
